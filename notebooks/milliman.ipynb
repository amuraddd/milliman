{
 "cells": [
  {
   "cell_type": "code",
   "execution_count": 1,
   "id": "426b6060",
   "metadata": {},
   "outputs": [],
   "source": [
    "# !pip install sentence_transformers\n",
    "# !pip install git+https://github.com/huggingface/transformers.git"
   ]
  },
  {
   "cell_type": "code",
   "execution_count": 1,
   "id": "b55704d9",
   "metadata": {},
   "outputs": [
    {
     "name": "stdout",
     "output_type": "stream",
     "text": [
      "['.DS_Store', 'utils', 'data', 'notebooks']\n",
      "Line Magic Set\n"
     ]
    }
   ],
   "source": [
    "import os\n",
    "os.chdir(\"..\")\n",
    "print(os.listdir())\n",
    "from utils.utils import notebook_line_magic\n",
    "notebook_line_magic()"
   ]
  },
  {
   "cell_type": "markdown",
   "id": "84c27033",
   "metadata": {},
   "source": [
    "### Data Exploration \n",
    "- The nlp dataset has vector of inconsistent lenghts.\n",
    "- Couple of options (among many):\n",
    "- Since each integer represents a token. Each vector can be padded with an unused integer to make all vector have a consistent lenght -> then do PCA if needed to reduce dimensions.\n",
    "- Use a pretrained encoder to generate embeddings.\n",
    "\n",
    "\n",
    "## data processing\n",
    "- manually add padding and use sentence transformer to generate embeddings\n",
    "- use auto tokenize with padding\n",
    "- manually add padding and then do tf-idf"
   ]
  },
  {
   "cell_type": "markdown",
   "id": "7d6d590e",
   "metadata": {},
   "source": [
    "## modeling ideas\n",
    "- create a dataloader with a defined bacth size\n",
    "- use the dataloader to create embeddings and then merge with the UniqueID\n",
    "- combined embeddings with other features\n",
    "- build an XGBoost model and a custom torch fully connected network\n",
    "- you can als get fancy with concatenating the bert model above with a torch classifier \n",
    "- knn classifier might also work well with features and embeddings"
   ]
  },
  {
   "cell_type": "code",
   "execution_count": null,
   "id": "1dd60ec9",
   "metadata": {},
   "outputs": [],
   "source": [
    "# add padding to the tokens\n",
    "import ast\n",
    "import torch\n",
    "import numpy as np\n",
    "import pandas as pd\n",
    "import seaborn as sns\n",
    "import matplotlib.pyplot as plt\n",
    "\n",
    "from utils.data_utils import get_data_df, get_padded_tokens, generate_embeddings_from_tokens"
   ]
  },
  {
   "cell_type": "code",
   "execution_count": null,
   "id": "55a23fea",
   "metadata": {},
   "outputs": [],
   "source": []
  }
 ],
 "metadata": {
  "kernelspec": {
   "display_name": "renv",
   "language": "python",
   "name": "python3"
  },
  "language_info": {
   "codemirror_mode": {
    "name": "ipython",
    "version": 3
   },
   "file_extension": ".py",
   "mimetype": "text/x-python",
   "name": "python",
   "nbconvert_exporter": "python",
   "pygments_lexer": "ipython3",
   "version": "3.9.6"
  }
 },
 "nbformat": 4,
 "nbformat_minor": 5
}
